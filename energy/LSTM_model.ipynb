{
 "cells": [
  {
   "cell_type": "code",
   "execution_count": 1,
   "metadata": {},
   "outputs": [],
   "source": [
    "import pandas as pd\n",
    "import numpy as np\n",
    "from sklearn.metrics import mean_squared_error\n",
    "from tensorflow.keras.models import Sequential\n",
    "from tensorflow.keras.layers import LSTM, Dense, Dropout, Activation\n",
    "from src.data_scripts import *\n",
    "from src.modeling_scripts import *"
   ]
  },
  {
   "cell_type": "code",
   "execution_count": 2,
   "metadata": {},
   "outputs": [],
   "source": [
    "raw_data = pd.read_csv('data/ca_energy_demand.csv')"
   ]
  },
  {
   "cell_type": "code",
   "execution_count": 3,
   "metadata": {},
   "outputs": [
    {
     "name": "stderr",
     "output_type": "stream",
     "text": [
      "/opt/anaconda3/lib/python3.7/site-packages/pandas/core/indexing.py:670: SettingWithCopyWarning: \n",
      "A value is trying to be set on a copy of a slice from a DataFrame\n",
      "\n",
      "See the caveats in the documentation: https://pandas.pydata.org/pandas-docs/stable/user_guide/indexing.html#returning-a-view-versus-a-copy\n",
      "  iloc._setitem_with_indexer(indexer, value)\n",
      "/opt/anaconda3/lib/python3.7/site-packages/pandas/core/indexing.py:670: SettingWithCopyWarning: \n",
      "A value is trying to be set on a copy of a slice from a DataFrame\n",
      "\n",
      "See the caveats in the documentation: https://pandas.pydata.org/pandas-docs/stable/user_guide/indexing.html#returning-a-view-versus-a-copy\n",
      "  iloc._setitem_with_indexer(indexer, value)\n",
      "/opt/anaconda3/lib/python3.7/site-packages/pandas/core/indexing.py:670: SettingWithCopyWarning: \n",
      "A value is trying to be set on a copy of a slice from a DataFrame\n",
      "\n",
      "See the caveats in the documentation: https://pandas.pydata.org/pandas-docs/stable/user_guide/indexing.html#returning-a-view-versus-a-copy\n",
      "  iloc._setitem_with_indexer(indexer, value)\n",
      "/opt/anaconda3/lib/python3.7/site-packages/pandas/core/indexing.py:670: SettingWithCopyWarning: \n",
      "A value is trying to be set on a copy of a slice from a DataFrame\n",
      "\n",
      "See the caveats in the documentation: https://pandas.pydata.org/pandas-docs/stable/user_guide/indexing.html#returning-a-view-versus-a-copy\n",
      "  iloc._setitem_with_indexer(indexer, value)\n"
     ]
    }
   ],
   "source": [
    "clean_data = clean_data(raw_data)"
   ]
  },
  {
   "cell_type": "code",
   "execution_count": 4,
   "metadata": {},
   "outputs": [],
   "source": [
    "# Normalizing data for LSTM model\n",
    "\n",
    "data = normalize(clean_data)"
   ]
  },
  {
   "cell_type": "code",
   "execution_count": 5,
   "metadata": {},
   "outputs": [
    {
     "data": {
      "text/html": [
       "<div>\n",
       "<style scoped>\n",
       "    .dataframe tbody tr th:only-of-type {\n",
       "        vertical-align: middle;\n",
       "    }\n",
       "\n",
       "    .dataframe tbody tr th {\n",
       "        vertical-align: top;\n",
       "    }\n",
       "\n",
       "    .dataframe thead th {\n",
       "        text-align: right;\n",
       "    }\n",
       "</style>\n",
       "<table border=\"1\" class=\"dataframe\">\n",
       "  <thead>\n",
       "    <tr style=\"text-align: right;\">\n",
       "      <th></th>\n",
       "      <th>Demand</th>\n",
       "      <th>Year</th>\n",
       "      <th>Month</th>\n",
       "      <th>Day_of_Week</th>\n",
       "      <th>Hour</th>\n",
       "      <th>Normalized</th>\n",
       "    </tr>\n",
       "  </thead>\n",
       "  <tbody>\n",
       "    <tr>\n",
       "      <th>count</th>\n",
       "      <td>45844.000000</td>\n",
       "      <td>45844.000000</td>\n",
       "      <td>45844.000000</td>\n",
       "      <td>45844.000000</td>\n",
       "      <td>45844.000000</td>\n",
       "      <td>45844.000000</td>\n",
       "    </tr>\n",
       "    <tr>\n",
       "      <th>mean</th>\n",
       "      <td>31758.887082</td>\n",
       "      <td>2017.605445</td>\n",
       "      <td>6.581232</td>\n",
       "      <td>3.000851</td>\n",
       "      <td>11.499106</td>\n",
       "      <td>0.031308</td>\n",
       "    </tr>\n",
       "    <tr>\n",
       "      <th>std</th>\n",
       "      <td>6525.024613</td>\n",
       "      <td>1.554086</td>\n",
       "      <td>3.388803</td>\n",
       "      <td>2.000038</td>\n",
       "      <td>6.922636</td>\n",
       "      <td>0.014445</td>\n",
       "    </tr>\n",
       "    <tr>\n",
       "      <th>min</th>\n",
       "      <td>17617.000000</td>\n",
       "      <td>2015.000000</td>\n",
       "      <td>1.000000</td>\n",
       "      <td>0.000000</td>\n",
       "      <td>0.000000</td>\n",
       "      <td>0.000000</td>\n",
       "    </tr>\n",
       "    <tr>\n",
       "      <th>25%</th>\n",
       "      <td>27019.000000</td>\n",
       "      <td>2016.000000</td>\n",
       "      <td>4.000000</td>\n",
       "      <td>1.000000</td>\n",
       "      <td>5.000000</td>\n",
       "      <td>0.020815</td>\n",
       "    </tr>\n",
       "    <tr>\n",
       "      <th>50%</th>\n",
       "      <td>30604.000000</td>\n",
       "      <td>2018.000000</td>\n",
       "      <td>7.000000</td>\n",
       "      <td>3.000000</td>\n",
       "      <td>11.000000</td>\n",
       "      <td>0.028751</td>\n",
       "    </tr>\n",
       "    <tr>\n",
       "      <th>75%</th>\n",
       "      <td>34411.000000</td>\n",
       "      <td>2019.000000</td>\n",
       "      <td>9.000000</td>\n",
       "      <td>5.000000</td>\n",
       "      <td>17.000000</td>\n",
       "      <td>0.037180</td>\n",
       "    </tr>\n",
       "    <tr>\n",
       "      <th>max</th>\n",
       "      <td>62787.000000</td>\n",
       "      <td>2020.000000</td>\n",
       "      <td>12.000000</td>\n",
       "      <td>6.000000</td>\n",
       "      <td>23.000000</td>\n",
       "      <td>0.100000</td>\n",
       "    </tr>\n",
       "  </tbody>\n",
       "</table>\n",
       "</div>"
      ],
      "text/plain": [
       "             Demand          Year         Month   Day_of_Week          Hour  \\\n",
       "count  45844.000000  45844.000000  45844.000000  45844.000000  45844.000000   \n",
       "mean   31758.887082   2017.605445      6.581232      3.000851     11.499106   \n",
       "std     6525.024613      1.554086      3.388803      2.000038      6.922636   \n",
       "min    17617.000000   2015.000000      1.000000      0.000000      0.000000   \n",
       "25%    27019.000000   2016.000000      4.000000      1.000000      5.000000   \n",
       "50%    30604.000000   2018.000000      7.000000      3.000000     11.000000   \n",
       "75%    34411.000000   2019.000000      9.000000      5.000000     17.000000   \n",
       "max    62787.000000   2020.000000     12.000000      6.000000     23.000000   \n",
       "\n",
       "         Normalized  \n",
       "count  45844.000000  \n",
       "mean       0.031308  \n",
       "std        0.014445  \n",
       "min        0.000000  \n",
       "25%        0.020815  \n",
       "50%        0.028751  \n",
       "75%        0.037180  \n",
       "max        0.100000  "
      ]
     },
     "execution_count": 5,
     "metadata": {},
     "output_type": "execute_result"
    }
   ],
   "source": [
    "data.describe()"
   ]
  },
  {
   "cell_type": "code",
   "execution_count": 11,
   "metadata": {},
   "outputs": [],
   "source": [
    "pred_date = '2020-01-29'\n",
    "window_size = 8 * 7 * 24\n",
    "weeks = 1\n",
    "days = 7\n",
    "hours = 24\n",
    "num_pred = weeks * days * hours"
   ]
  },
  {
   "cell_type": "code",
   "execution_count": 12,
   "metadata": {},
   "outputs": [],
   "source": [
    "X_train, y_train, X_test, y_test = prep_data_lstm(clean_data, pred_date, window_size, weeks=weeks, days=days, hours=hours)"
   ]
  },
  {
   "cell_type": "code",
   "execution_count": 13,
   "metadata": {},
   "outputs": [
    {
     "data": {
      "text/plain": [
       "((38640, 1344, 1), (38640, 168), (1, 1344, 1), (1, 168))"
      ]
     },
     "execution_count": 13,
     "metadata": {},
     "output_type": "execute_result"
    }
   ],
   "source": [
    "X_train.shape, y_train.shape, X_test.shape, y_test.shape"
   ]
  },
  {
   "cell_type": "code",
   "execution_count": 14,
   "metadata": {},
   "outputs": [],
   "source": [
    "n_features = 1\n",
    "\n",
    "model = Sequential()\n",
    "model.add(LSTM(1344, activation='relu', dropout=0.1, input_shape=(window_size, n_features)))\n",
    "model.add(Dense(num_pred, activation='linear'))\n",
    "model.compile(optimizer='adam', loss='mse')"
   ]
  },
  {
   "cell_type": "code",
   "execution_count": 82,
   "metadata": {},
   "outputs": [
    {
     "name": "stdout",
     "output_type": "stream",
     "text": [
      "Epoch 1/5\n",
      "302/302 [==============================] - 11614s 38s/step - loss: 1.8791e-04\n",
      "Epoch 2/5\n",
      "302/302 [==============================] - 11940s 40s/step - loss: 7.2487e-05\n",
      "Epoch 3/5\n",
      "302/302 [==============================] - 12148s 40s/step - loss: 5.6319e-05\n",
      "Epoch 4/5\n",
      "302/302 [==============================] - 12425s 41s/step - loss: 5.3351e-05\n",
      "Epoch 5/5\n",
      "302/302 [==============================] - 11916s 39s/step - loss: 5.2774e-05\n"
     ]
    },
    {
     "data": {
      "text/plain": [
       "<tensorflow.python.keras.callbacks.History at 0x7fd2a1698f90>"
      ]
     },
     "execution_count": 82,
     "metadata": {},
     "output_type": "execute_result"
    }
   ],
   "source": [
    "model.fit(X_train, y_train, batch_size=128, epochs=5, verbose=1)"
   ]
  },
  {
   "cell_type": "code",
   "execution_count": 83,
   "metadata": {},
   "outputs": [
    {
     "name": "stdout",
     "output_type": "stream",
     "text": [
      "Model: \"sequential_5\"\n",
      "_________________________________________________________________\n",
      "Layer (type)                 Output Shape              Param #   \n",
      "=================================================================\n",
      "lstm_5 (LSTM)                (None, 1344)              7236096   \n",
      "_________________________________________________________________\n",
      "dense_5 (Dense)              (None, 168)               225960    \n",
      "=================================================================\n",
      "Total params: 7,462,056\n",
      "Trainable params: 7,462,056\n",
      "Non-trainable params: 0\n",
      "_________________________________________________________________\n"
     ]
    }
   ],
   "source": [
    "model.summary()"
   ]
  },
  {
   "cell_type": "code",
   "execution_count": 84,
   "metadata": {},
   "outputs": [
    {
     "name": "stdout",
     "output_type": "stream",
     "text": [
      "1/1 [==============================] - 0s 1ms/step\n"
     ]
    }
   ],
   "source": [
    "yhat = model.predict(X_test, verbose=1)"
   ]
  },
  {
   "cell_type": "code",
   "execution_count": 85,
   "metadata": {},
   "outputs": [],
   "source": [
    "unnorm_yhat = yhat * ((max_demand - min_demand)*10) + min_demand"
   ]
  },
  {
   "cell_type": "code",
   "execution_count": 86,
   "metadata": {},
   "outputs": [],
   "source": [
    "unnorm_ytest = y_test * ((max_demand - min_demand)*10) + min_demand"
   ]
  },
  {
   "cell_type": "code",
   "execution_count": 88,
   "metadata": {},
   "outputs": [
    {
     "data": {
      "text/plain": [
       "2519.343734027062"
      ]
     },
     "execution_count": 88,
     "metadata": {},
     "output_type": "execute_result"
    }
   ],
   "source": [
    "mean_squared_error(unnorm_ytest, unnorm_yhat, squared=False)"
   ]
  },
  {
   "cell_type": "code",
   "execution_count": 90,
   "metadata": {},
   "outputs": [
    {
     "data": {
      "text/plain": [
       "array([[26857.762, 25166.092, 24114.266, 23818.031, 24297.121, 25170.4  ,\n",
       "        26218.455, 27559.652, 28641.121, 29681.836, 29401.986, 29605.46 ,\n",
       "        29158.45 , 29252.506, 29280.34 , 29877.48 , 30718.535, 31414.637,\n",
       "        32067.996, 32771.938, 32475.023, 32041.582, 30592.654, 28878.168,\n",
       "        26825.809, 25304.107, 24241.258, 23901.1  , 24383.916, 25138.357,\n",
       "        26376.646, 27927.387, 28792.254, 29360.02 , 29733.21 , 29685.14 ,\n",
       "        29675.3  , 29497.947, 29813.945, 30220.562, 30885.613, 31889.688,\n",
       "        32862.29 , 33294.42 , 33196.82 , 32533.621, 31254.348, 29292.492,\n",
       "        27222.832, 25586.27 , 24527.627, 24362.633, 24472.406, 25476.168,\n",
       "        26767.207, 27663.242, 28853.512, 29646.594, 30001.016, 29959.137,\n",
       "        29782.639, 29651.605, 29821.277, 30476.059, 31147.219, 31885.297,\n",
       "        32784.39 , 33454.445, 33140.605, 32461.309, 31083.652, 29393.912,\n",
       "        27667.717, 25757.885, 24800.17 , 24433.334, 24915.24 , 25649.066,\n",
       "        26837.102, 28051.436, 29236.414, 29781.404, 30557.348, 30077.797,\n",
       "        30038.605, 29957.674, 29920.168, 30641.217, 31195.748, 32175.38 ,\n",
       "        33204.594, 33527.125, 33482.094, 32661.031, 31264.184, 29327.008,\n",
       "        27648.586, 25847.96 , 24956.867, 24499.814, 24836.443, 25575.293,\n",
       "        26963.367, 28154.008, 29483.504, 30190.574, 30450.643, 30287.535,\n",
       "        30123.457, 30154.934, 30350.742, 30787.857, 31779.582, 32562.305,\n",
       "        33600.7  , 33807.984, 33818.92 , 32945.543, 31664.49 , 30043.184,\n",
       "        28063.488, 26357.867, 25289.904, 24952.008, 24772.045, 25852.562,\n",
       "        27083.242, 28303.926, 29330.875, 30036.334, 30222.3  , 30371.877,\n",
       "        30231.617, 30081.893, 30282.383, 30799.463, 31476.795, 32339.355,\n",
       "        33222.312, 33880.535, 33478.9  , 32975.223, 31433.473, 29444.822,\n",
       "        27913.242, 26330.424, 24888.146, 24306.79 , 24727.129, 25678.625,\n",
       "        26630.164, 28147.89 , 29054.816, 29787.598, 29977.69 , 29918.75 ,\n",
       "        29619.22 , 29509.098, 29571.408, 30250.07 , 30970.684, 31999.918,\n",
       "        32920.633, 33436.574, 33224.21 , 32500.137, 31127.262, 29069.182]],\n",
       "      dtype=float32)"
      ]
     },
     "execution_count": 90,
     "metadata": {},
     "output_type": "execute_result"
    }
   ],
   "source": [
    "unnorm_yhat"
   ]
  },
  {
   "cell_type": "code",
   "execution_count": 91,
   "metadata": {},
   "outputs": [
    {
     "data": {
      "text/plain": [
       "array([[26997., 25891., 25088., 24585., 24566., 25265., 27313., 30598.,\n",
       "        31780., 30933., 29727., 28464., 27690., 27387., 27846., 28279.,\n",
       "        29284., 30897., 33300., 34291., 33902., 33026., 31480., 29358.,\n",
       "        27354., 26058., 25210., 24637., 24455., 25271., 27303., 30542.,\n",
       "        31717., 30757., 29657., 28681., 28084., 27810., 27745., 28113.,\n",
       "        29007., 30737., 33189., 34034., 33525., 32688., 31234., 29248.,\n",
       "        27269., 26085., 25101., 24671., 24579., 25235., 27181., 30227.,\n",
       "        31308., 30265., 29204., 28385., 27658., 27197., 27416., 28019.,\n",
       "        28806., 30359., 32392., 33169., 32408., 31591., 30416., 28676.,\n",
       "        26887., 25605., 24709., 24357., 24052., 24281., 25182., 26468.,\n",
       "        26939., 26686., 26008., 25239., 24564., 24364., 24603., 25181.,\n",
       "        26306., 27962., 30355., 31366., 30771., 30020., 29011., 27457.,\n",
       "        25790., 24751., 24130., 23717., 23419., 23434., 24075., 24914.,\n",
       "        25089., 25078., 25202., 24565., 24064., 23666., 23817., 24414.,\n",
       "        25036., 26334., 29086., 30326., 30347., 30448., 29565., 27685.,\n",
       "        26043., 25290., 24633., 24295., 24445., 25452., 27462., 30619.,\n",
       "        32221., 31325., 29808., 28610., 27627., 27541., 27850., 28596.,\n",
       "        28230., 31504., 33997., 35829., 35656., 34836., 33317., 30907.,\n",
       "        28790., 27713., 26897., 26482., 26518., 27418., 29591., 32887.,\n",
       "        33964., 32277., 30564., 28881., 27975., 27738., 27707., 27712.,\n",
       "        28485., 30893., 34416., 36113., 35933., 35379., 33886., 31497.]])"
      ]
     },
     "execution_count": 91,
     "metadata": {},
     "output_type": "execute_result"
    }
   ],
   "source": [
    "unnorm_ytest"
   ]
  },
  {
   "cell_type": "code",
   "execution_count": null,
   "metadata": {},
   "outputs": [],
   "source": []
  }
 ],
 "metadata": {
  "kernelspec": {
   "display_name": "Python 3",
   "language": "python",
   "name": "python3"
  },
  "language_info": {
   "codemirror_mode": {
    "name": "ipython",
    "version": 3
   },
   "file_extension": ".py",
   "mimetype": "text/x-python",
   "name": "python",
   "nbconvert_exporter": "python",
   "pygments_lexer": "ipython3",
   "version": "3.7.7"
  }
 },
 "nbformat": 4,
 "nbformat_minor": 4
}
