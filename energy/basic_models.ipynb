{
 "cells": [
  {
   "cell_type": "code",
   "execution_count": 1,
   "metadata": {},
   "outputs": [],
   "source": [
    "import pandas as pd\n",
    "import numpy as np\n",
    "import matplotlib.pyplot as plt"
   ]
  },
  {
   "cell_type": "code",
   "execution_count": 2,
   "metadata": {},
   "outputs": [],
   "source": [
    "from sklearn.ensemble import RandomForestRegressor\n",
    "from sklearn.metrics import mean_squared_error\n",
    "from sklearn.linear_model import LinearRegression, Lasso, Ridge\n",
    "from sklearn.ensemble import GradientBoostingRegressor"
   ]
  },
  {
   "cell_type": "code",
   "execution_count": 3,
   "metadata": {},
   "outputs": [],
   "source": [
    "from src.data_scripts import *\n",
    "from src.modeling_scripts import *"
   ]
  },
  {
   "cell_type": "code",
   "execution_count": 4,
   "metadata": {},
   "outputs": [],
   "source": [
    "raw_data = pd.read_csv('data/ca_energy_demand.csv')"
   ]
  },
  {
   "cell_type": "code",
   "execution_count": 5,
   "metadata": {},
   "outputs": [
    {
     "name": "stderr",
     "output_type": "stream",
     "text": [
      "/opt/anaconda3/lib/python3.7/site-packages/pandas/core/indexing.py:670: SettingWithCopyWarning: \n",
      "A value is trying to be set on a copy of a slice from a DataFrame\n",
      "\n",
      "See the caveats in the documentation: https://pandas.pydata.org/pandas-docs/stable/user_guide/indexing.html#returning-a-view-versus-a-copy\n",
      "  iloc._setitem_with_indexer(indexer, value)\n",
      "/opt/anaconda3/lib/python3.7/site-packages/pandas/core/indexing.py:670: SettingWithCopyWarning: \n",
      "A value is trying to be set on a copy of a slice from a DataFrame\n",
      "\n",
      "See the caveats in the documentation: https://pandas.pydata.org/pandas-docs/stable/user_guide/indexing.html#returning-a-view-versus-a-copy\n",
      "  iloc._setitem_with_indexer(indexer, value)\n",
      "/opt/anaconda3/lib/python3.7/site-packages/pandas/core/indexing.py:670: SettingWithCopyWarning: \n",
      "A value is trying to be set on a copy of a slice from a DataFrame\n",
      "\n",
      "See the caveats in the documentation: https://pandas.pydata.org/pandas-docs/stable/user_guide/indexing.html#returning-a-view-versus-a-copy\n",
      "  iloc._setitem_with_indexer(indexer, value)\n",
      "/opt/anaconda3/lib/python3.7/site-packages/pandas/core/indexing.py:670: SettingWithCopyWarning: \n",
      "A value is trying to be set on a copy of a slice from a DataFrame\n",
      "\n",
      "See the caveats in the documentation: https://pandas.pydata.org/pandas-docs/stable/user_guide/indexing.html#returning-a-view-versus-a-copy\n",
      "  iloc._setitem_with_indexer(indexer, value)\n"
     ]
    }
   ],
   "source": [
    "data = clean_data(raw_data)"
   ]
  },
  {
   "cell_type": "code",
   "execution_count": 6,
   "metadata": {},
   "outputs": [],
   "source": [
    "# 5 dates to predict from to score each model multiple times and take average score to determine best model\n",
    "\n",
    "dates_lst = ['2018-06-03', '2019-12-12', '2019-04-10', '2019-07-15', '2019-10-22']\n",
    "weeks = 1\n",
    "days = 7\n",
    "hours = 24"
   ]
  },
  {
   "cell_type": "code",
   "execution_count": 7,
   "metadata": {},
   "outputs": [
    {
     "data": {
      "text/plain": [
       "[4757.208374754393,\n",
       " 3547.622623719834,\n",
       " 3444.247336382714,\n",
       " 6429.2945561681245,\n",
       " 5289.4857514349105]"
      ]
     },
     "execution_count": 7,
     "metadata": {},
     "output_type": "execute_result"
    }
   ],
   "source": [
    "# scores model that takes the average of time period before the same length as period to be predicted\n",
    "\n",
    "avg_lst = []\n",
    "for date in dates_lst:\n",
    "    avg_lst.append(score_avg_model(data, date, weeks=weeks, days=days, hours=hours))\n",
    "avg_lst"
   ]
  },
  {
   "cell_type": "code",
   "execution_count": 8,
   "metadata": {},
   "outputs": [
    {
     "data": {
      "text/plain": [
       "(4693.571728491995, 1117.6678994630647)"
      ]
     },
     "execution_count": 8,
     "metadata": {},
     "output_type": "execute_result"
    }
   ],
   "source": [
    "np.mean(avg_lst), np.std(avg_lst)"
   ]
  },
  {
   "cell_type": "code",
   "execution_count": 9,
   "metadata": {},
   "outputs": [
    {
     "data": {
      "text/plain": [
       "[3847.070575373522,\n",
       " 1029.6666907536724,\n",
       " 2481.4022425406397,\n",
       " 4296.838698807698,\n",
       " 3276.5190615521046]"
      ]
     },
     "execution_count": 9,
     "metadata": {},
     "output_type": "execute_result"
    }
   ],
   "source": [
    "# scores model that uses previous time period demand to predict future demand\n",
    "\n",
    "last_period_lst = []\n",
    "for date in dates_lst:\n",
    "    last_period_lst.append(score_last_period_model(data, date, weeks=weeks, days=days, hours=hours))\n",
    "last_period_lst"
   ]
  },
  {
   "cell_type": "code",
   "execution_count": 11,
   "metadata": {},
   "outputs": [
    {
     "data": {
      "text/plain": [
       "(2986.2994538055273, 1151.173351023021)"
      ]
     },
     "execution_count": 11,
     "metadata": {},
     "output_type": "execute_result"
    }
   ],
   "source": [
    "np.mean(last_period_lst), np.std(last_period_lst)"
   ]
  },
  {
   "cell_type": "code",
   "execution_count": 12,
   "metadata": {},
   "outputs": [
    {
     "data": {
      "text/plain": [
       "[1859.5956597758402,\n",
       " 1332.8278297700433,\n",
       " 3354.9758941011783,\n",
       " 5357.01751321617,\n",
       " 2414.9982216793214]"
      ]
     },
     "execution_count": 12,
     "metadata": {},
     "output_type": "execute_result"
    }
   ],
   "source": [
    "# scores model using demand for the same time last year\n",
    "\n",
    "last_year_lst = []\n",
    "for date in dates_lst:\n",
    "    last_year_lst.append(score_last_year_model(data, date, weeks=weeks, days=days, hours=hours))\n",
    "last_year_lst"
   ]
  },
  {
   "cell_type": "code",
   "execution_count": 13,
   "metadata": {},
   "outputs": [
    {
     "data": {
      "text/plain": [
       "(2863.883023708511, 1414.9991146185712)"
      ]
     },
     "execution_count": 13,
     "metadata": {},
     "output_type": "execute_result"
    }
   ],
   "source": [
    "np.mean(last_year_lst), np.std(last_year_lst)"
   ]
  },
  {
   "cell_type": "code",
   "execution_count": 14,
   "metadata": {},
   "outputs": [],
   "source": [
    "dummy_data = prep_dum_data(data)"
   ]
  },
  {
   "cell_type": "code",
   "execution_count": 15,
   "metadata": {},
   "outputs": [
    {
     "data": {
      "text/plain": [
       "[3383.997151959796,\n",
       " 2703.382406955145,\n",
       " 3041.440177187874,\n",
       " 2944.3325832261417,\n",
       " 2738.1591097490664]"
      ]
     },
     "execution_count": 15,
     "metadata": {},
     "output_type": "execute_result"
    }
   ],
   "source": [
    "# scores linear regression model\n",
    "\n",
    "lr = LinearRegression()\n",
    "lr_score = score_basic_models(lr, dummy_data, dates_lst, weeks=weeks, days=days, hours=hours)\n",
    "lr_score"
   ]
  },
  {
   "cell_type": "code",
   "execution_count": 16,
   "metadata": {},
   "outputs": [
    {
     "data": {
      "text/plain": [
       "(2962.262285815604, 245.63873279297)"
      ]
     },
     "execution_count": 16,
     "metadata": {},
     "output_type": "execute_result"
    }
   ],
   "source": [
    "np.mean(lr_score), np.std(lr_score)"
   ]
  },
  {
   "cell_type": "code",
   "execution_count": 17,
   "metadata": {},
   "outputs": [
    {
     "name": "stdout",
     "output_type": "stream",
     "text": [
      "[3105.7681360632823, 2444.1098725980128, 2945.868739627086, 3286.896825224769, 2891.340805461577]\n",
      "2934.80\n",
      "281.42\n"
     ]
    }
   ],
   "source": [
    "# finds optimal alpha and scores lasso model\n",
    "\n",
    "lasso_alpha_lst = [20]\n",
    "\n",
    "for i in lasso_alpha_lst:\n",
    "    lm = Lasso(alpha=i)\n",
    "    lm_score = score_basic_models(lm, dummy_data, dates_lst, weeks=weeks, days=days, hours=hours)\n",
    "    print(lm_score)\n",
    "    print('{:.2f}'.format(np.mean(lm_score)))\n",
    "    print('{:.2f}'.format(np.std(lm_score)))"
   ]
  },
  {
   "cell_type": "code",
   "execution_count": 18,
   "metadata": {},
   "outputs": [
    {
     "name": "stdout",
     "output_type": "stream",
     "text": [
      "[2738.4445867489803, 2461.819417103969, 2778.71891270802, 3480.548840660124, 2800.439477734133]\n",
      "2851.99\n",
      "337.12\n"
     ]
    }
   ],
   "source": [
    "# finds optimal alpha and scores ridge model\n",
    "\n",
    "ridge_alpha_lst = [260]\n",
    "\n",
    "for i in ridge_alpha_lst:\n",
    "    rm = Ridge(alpha=i)\n",
    "    rm_score = score_basic_models(rm, dummy_data, dates_lst, weeks=weeks, days=days, hours=hours)\n",
    "    print(rm_score)\n",
    "    print('{:.2f}'.format(np.mean(rm_score)))\n",
    "    print('{:.2f}'.format(np.std(rm_score)))"
   ]
  },
  {
   "cell_type": "code",
   "execution_count": 19,
   "metadata": {},
   "outputs": [
    {
     "data": {
      "text/plain": [
       "[2348.3961429326114, 150, None, 4]"
      ]
     },
     "execution_count": 19,
     "metadata": {},
     "output_type": "execute_result"
    }
   ],
   "source": [
    "# grid search to find optimal random forest parameters\n",
    "\n",
    "n_estimators = [50, 100, 150, 200, 300]\n",
    "max_depth = [None, 1, 2, 3, 4]\n",
    "min_samples_split = [2, 3, 4]\n",
    "\n",
    "rf_lst = []\n",
    "for est in n_estimators:\n",
    "    for depth in max_depth:\n",
    "        for samples in min_samples_split:\n",
    "            rf_gridsearch = RandomForestRegressor(n_estimators=est, max_depth=depth, min_samples_split=samples)\n",
    "            rf_gridsearch_score = score_basic_models(rf_gridsearch, dummy_data, dates_lst, weeks=weeks, days=days, hours=hours)\n",
    "            rf_lst.append([np.mean(rf_gridsearch_score), est, depth, samples])\n",
    "min(rf_lst)"
   ]
  },
  {
   "cell_type": "code",
   "execution_count": 20,
   "metadata": {},
   "outputs": [
    {
     "data": {
      "text/plain": [
       "[1531.1320679403336,\n",
       " 1077.9148859213833,\n",
       " 2452.1997631575414,\n",
       " 3704.0534808170414,\n",
       " 3052.685483269264]"
      ]
     },
     "execution_count": 20,
     "metadata": {},
     "output_type": "execute_result"
    }
   ],
   "source": [
    "# scores random forest model\n",
    "\n",
    "rf = RandomForestRegressor(n_estimators=150, min_samples_split=4)\n",
    "rf_score = score_basic_models(rf, dummy_data, dates_lst, weeks=weeks, days=days, hours=hours)\n",
    "rf_score"
   ]
  },
  {
   "cell_type": "code",
   "execution_count": 21,
   "metadata": {},
   "outputs": [
    {
     "data": {
      "text/plain": [
       "(2363.5971362211126, 961.820495305498)"
      ]
     },
     "execution_count": 21,
     "metadata": {},
     "output_type": "execute_result"
    }
   ],
   "source": [
    "np.mean(rf_score), np.std(rf_score)"
   ]
  },
  {
   "cell_type": "code",
   "execution_count": 131,
   "metadata": {},
   "outputs": [
    {
     "data": {
      "text/plain": [
       "[2274.402008489731, 0.1, 300, 4, 4]"
      ]
     },
     "execution_count": 131,
     "metadata": {},
     "output_type": "execute_result"
    }
   ],
   "source": [
    "# grid search to find optimal gradient boosting parameters\n",
    "\n",
    "learning_rate = [.01, .1, .25]\n",
    "n_estimators = [50, 100, 150, 200, 300]\n",
    "max_depth = [None, 1, 2, 3, 4]\n",
    "min_samples_split = [2, 3, 4]\n",
    "\n",
    "gb_lst = []\n",
    "for lr in learning_rate:\n",
    "    for est in n_estimators:\n",
    "        for depth in max_depth:\n",
    "            for samples in min_samples_split:\n",
    "                gb_gridsearch = GradientBoostingRegressor(learning_rate = lr, n_estimators=est, max_depth=depth, min_samples_split=samples)\n",
    "                gb_gridsearch_score = score_basic_models(gb_gridsearch, dummy_data, dates_lst, weeks=weeks, days=days, hours=hours)\n",
    "                gb_lst.append([np.mean(gb_gridsearch_score), lr, est, depth, samples])\n",
    "min(gb_lst)"
   ]
  },
  {
   "cell_type": "code",
   "execution_count": 132,
   "metadata": {},
   "outputs": [
    {
     "data": {
      "text/plain": [
       "[2073.0872946477093,\n",
       " 1212.8539466712105,\n",
       " 2474.9848748329096,\n",
       " 2832.3916118623915,\n",
       " 2779.025986000477]"
      ]
     },
     "execution_count": 132,
     "metadata": {},
     "output_type": "execute_result"
    }
   ],
   "source": [
    "# scores gradient boosting model\n",
    "\n",
    "gb = GradientBoostingRegressor(learning_rate=.1, n_estimators=300, max_depth=4, min_samples_split=4)\n",
    "gb_score = score_basic_models(gb, dummy_data, dates_lst, weeks=weeks, days=days, hours=hours)\n",
    "gb_score"
   ]
  },
  {
   "cell_type": "code",
   "execution_count": 133,
   "metadata": {},
   "outputs": [
    {
     "data": {
      "text/plain": [
       "(2274.4687428029397, 595.5909874593134)"
      ]
     },
     "execution_count": 133,
     "metadata": {},
     "output_type": "execute_result"
    }
   ],
   "source": [
    "np.mean(gb_score), np.std(gb_score)"
   ]
  },
  {
   "cell_type": "code",
   "execution_count": null,
   "metadata": {},
   "outputs": [],
   "source": []
  },
  {
   "cell_type": "code",
   "execution_count": 22,
   "metadata": {},
   "outputs": [],
   "source": [
    "# score models with test data\n",
    "\n",
    "pred_date = '2020-01-29'\n",
    "weeks = 1\n",
    "days = 7\n",
    "hours = 24"
   ]
  },
  {
   "cell_type": "code",
   "execution_count": 23,
   "metadata": {},
   "outputs": [
    {
     "data": {
      "text/plain": [
       "3202.27367894323"
      ]
     },
     "execution_count": 23,
     "metadata": {},
     "output_type": "execute_result"
    }
   ],
   "source": [
    "score_avg_model(data, pred_date, weeks=weeks, days=days, hours=hours)"
   ]
  },
  {
   "cell_type": "code",
   "execution_count": 24,
   "metadata": {},
   "outputs": [
    {
     "data": {
      "text/plain": [
       "917.9968227976972"
      ]
     },
     "execution_count": 24,
     "metadata": {},
     "output_type": "execute_result"
    }
   ],
   "source": [
    "score_last_period_model(data, pred_date, weeks=weeks, days=days, hours=hours)"
   ]
  },
  {
   "cell_type": "code",
   "execution_count": 25,
   "metadata": {},
   "outputs": [
    {
     "data": {
      "text/plain": [
       "1828.0521395737048"
      ]
     },
     "execution_count": 25,
     "metadata": {},
     "output_type": "execute_result"
    }
   ],
   "source": [
    "score_last_year_model(data, pred_date, weeks=weeks, days=days, hours=hours)"
   ]
  },
  {
   "cell_type": "code",
   "execution_count": 26,
   "metadata": {},
   "outputs": [
    {
     "data": {
      "text/plain": [
       "2651.4617022281855"
      ]
     },
     "execution_count": 26,
     "metadata": {},
     "output_type": "execute_result"
    }
   ],
   "source": [
    "lr = LinearRegression()\n",
    "score_basic_models_test(lr, dummy_data, pred_date, weeks=weeks, days=days, hours=hours)"
   ]
  },
  {
   "cell_type": "code",
   "execution_count": 27,
   "metadata": {},
   "outputs": [
    {
     "data": {
      "text/plain": [
       "2372.7824915472497"
      ]
     },
     "execution_count": 27,
     "metadata": {},
     "output_type": "execute_result"
    }
   ],
   "source": [
    "lm = Lasso(alpha=20)\n",
    "score_basic_models_test(lm, dummy_data, pred_date, weeks=weeks, days=days, hours=hours)"
   ]
  },
  {
   "cell_type": "code",
   "execution_count": 28,
   "metadata": {},
   "outputs": [
    {
     "data": {
      "text/plain": [
       "2488.357238868793"
      ]
     },
     "execution_count": 28,
     "metadata": {},
     "output_type": "execute_result"
    }
   ],
   "source": [
    "rm = Ridge(alpha=260)\n",
    "score_basic_models_test(rm, dummy_data, pred_date, weeks=weeks, days=days, hours=hours)"
   ]
  },
  {
   "cell_type": "code",
   "execution_count": 29,
   "metadata": {},
   "outputs": [
    {
     "data": {
      "text/plain": [
       "908.8283379274895"
      ]
     },
     "execution_count": 29,
     "metadata": {},
     "output_type": "execute_result"
    }
   ],
   "source": [
    "rf = RandomForestRegressor()\n",
    "score_basic_models_test(rf, dummy_data, pred_date, weeks=weeks, days=days, hours=hours)"
   ]
  },
  {
   "cell_type": "code",
   "execution_count": 30,
   "metadata": {},
   "outputs": [
    {
     "data": {
      "text/plain": [
       "917.814002594834"
      ]
     },
     "execution_count": 30,
     "metadata": {},
     "output_type": "execute_result"
    }
   ],
   "source": [
    "best_rf = RandomForestRegressor(n_estimators=150, min_samples_split=4)\n",
    "score_basic_models_test(best_rf, dummy_data, pred_date, weeks=weeks, days=days, hours=hours)"
   ]
  },
  {
   "cell_type": "code",
   "execution_count": 31,
   "metadata": {},
   "outputs": [
    {
     "data": {
      "text/plain": [
       "2190.4921270219656"
      ]
     },
     "execution_count": 31,
     "metadata": {},
     "output_type": "execute_result"
    }
   ],
   "source": [
    "gb = GradientBoostingRegressor()\n",
    "score_basic_models_test(gb, dummy_data, pred_date, weeks=weeks, days=days, hours=hours)"
   ]
  },
  {
   "cell_type": "code",
   "execution_count": 32,
   "metadata": {},
   "outputs": [
    {
     "data": {
      "text/plain": [
       "1513.6074149697852"
      ]
     },
     "execution_count": 32,
     "metadata": {},
     "output_type": "execute_result"
    }
   ],
   "source": [
    "best_gb = GradientBoostingRegressor(learning_rate = .1, n_estimators=300, max_depth=4, min_samples_split=4)\n",
    "score_basic_models_test(best_gb, dummy_data, pred_date, weeks=weeks, days=days, hours=hours)"
   ]
  },
  {
   "cell_type": "code",
   "execution_count": null,
   "metadata": {},
   "outputs": [],
   "source": []
  }
 ],
 "metadata": {
  "kernelspec": {
   "display_name": "Python 3",
   "language": "python",
   "name": "python3"
  },
  "language_info": {
   "codemirror_mode": {
    "name": "ipython",
    "version": 3
   },
   "file_extension": ".py",
   "mimetype": "text/x-python",
   "name": "python",
   "nbconvert_exporter": "python",
   "pygments_lexer": "ipython3",
   "version": "3.7.7"
  }
 },
 "nbformat": 4,
 "nbformat_minor": 4
}
